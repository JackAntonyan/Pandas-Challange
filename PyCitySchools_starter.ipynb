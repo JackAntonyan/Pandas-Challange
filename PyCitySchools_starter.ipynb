{
 "cells": [
  {
   "cell_type": "markdown",
   "metadata": {},
   "source": [
    "### Note\n",
    "* Instructions have been included for each segment. You do not have to follow them exactly, but they are included to help you think through the steps."
   ]
  },
  {
   "cell_type": "code",
   "execution_count": 5,
   "metadata": {},
   "outputs": [],
   "source": [
    "# Dependencies and Setup\n",
    "import pandas as pd\n",
    "import numpy as np\n",
    "import os \n",
    "\n",
    "# File to Load \n",
    "schools_file = os.path.join(\"Resources/schools_complete.csv\")\n",
    "students_file = os.path.join(\"Resources/students_complete.csv\")\n",
    "\n",
    "# Read School and Student Data File and store into Pandas Data Frames\n",
    "schools_df= pd.read_csv(schools_file)\n",
    "students_df= pd.read_csv(students_file)\n",
    "\n",
    "# rename the schools\n",
    "schools_df.rename(columns = {'name': 'school_name'}, inplace = True)\n",
    "\n",
    "# Merge data for schools\n",
    "school_data_complete = students_df.merge(schools_df, how = 'left', on = 'school_name')"
   ]
  },
  {
   "cell_type": "code",
   "execution_count": 6,
   "metadata": {},
   "outputs": [],
   "source": [
    "## DISTRICT SUMMERY\n",
    "# Create Unique school name\n",
    "unique_school_name = schools_df['school_name'].unique()\n",
    "\n",
    "# Counting the number of schools\n",
    "school_count = len(unique_school_name)\n",
    "#school_count----> print to verify\n",
    "\n",
    "# District students count\n",
    "dist_student_count = schools_df['size'].sum()\n",
    "#dist_student_count----> print to verify\n",
    "\n",
    "#verification for the total number of students\n",
    "total_student_rec = students_df['student_name'].count()\n",
    "#total_student_rec----> print to verify\n",
    "\n",
    "# Total Budget count\n",
    "total_budget  = schools_df['budget'].sum()\n",
    "#total_budget----> print to verify\n",
    "\n",
    "#Calculate average math score\n",
    "average_math_score = students_df['math_score'].mean()\n",
    "#average_math_score----> print to verify\n",
    "\n",
    "#Calculate average math score\n",
    "average_reading_score = students_df['reading_score'].mean()\n",
    "#average_reading_score----> print to verify\n",
    "\n",
    "# (% Passing Math) Calculating the number of students passing math \n",
    "num_passing_math = students_df.loc[students_df['math_score']>= 70]['math_score'].count()\n",
    "perc_math_pass = num_passing_math/total_student_rec\n",
    "#perc_math_pass\n",
    "\n",
    "# (% Passing Reading) Calculating the number of students passing reading\n",
    "num_passing_reading = students_df.loc[students_df['reading_score']>=70]['reading_score'].count()\n",
    "perc_reading_pass = num_passing_reading/total_student_rec\n",
    "#perc_reading_pass----> print to verify\n",
    "\n",
    "# Overall Passing rate (Average of the above two)\n",
    "overall_pass = ((perc_math_pass + perc_reading_pass)/2)\n",
    "#overall_pass----> print to verify\n"
   ]
  },
  {
   "cell_type": "code",
   "execution_count": 8,
   "metadata": {},
   "outputs": [
    {
     "data": {
      "text/html": [
       "<style  type=\"text/css\" >\n",
       "</style><table id=\"T_e70696a4_e812_11e9_afd4_3035adc23802\" ><thead>    <tr>        <th class=\"blank level0\" ></th>        <th class=\"col_heading level0 col0\" >Totoal Scools</th>        <th class=\"col_heading level0 col1\" >Total Students</th>        <th class=\"col_heading level0 col2\" >Total Budget</th>        <th class=\"col_heading level0 col3\" >Average Math Score</th>        <th class=\"col_heading level0 col4\" >Average Reading Score</th>        <th class=\"col_heading level0 col5\" >% Passing Math</th>        <th class=\"col_heading level0 col6\" >% Passing Reading</th>        <th class=\"col_heading level0 col7\" >% Overall Passing rate</th>    </tr></thead><tbody>\n",
       "                <tr>\n",
       "                        <th id=\"T_e70696a4_e812_11e9_afd4_3035adc23802level0_row0\" class=\"row_heading level0 row0\" >0</th>\n",
       "                        <td id=\"T_e70696a4_e812_11e9_afd4_3035adc23802row0_col0\" class=\"data row0 col0\" >15</td>\n",
       "                        <td id=\"T_e70696a4_e812_11e9_afd4_3035adc23802row0_col1\" class=\"data row0 col1\" >39,170</td>\n",
       "                        <td id=\"T_e70696a4_e812_11e9_afd4_3035adc23802row0_col2\" class=\"data row0 col2\" >24,649,428</td>\n",
       "                        <td id=\"T_e70696a4_e812_11e9_afd4_3035adc23802row0_col3\" class=\"data row0 col3\" >78.99</td>\n",
       "                        <td id=\"T_e70696a4_e812_11e9_afd4_3035adc23802row0_col4\" class=\"data row0 col4\" >81.88</td>\n",
       "                        <td id=\"T_e70696a4_e812_11e9_afd4_3035adc23802row0_col5\" class=\"data row0 col5\" >0.75</td>\n",
       "                        <td id=\"T_e70696a4_e812_11e9_afd4_3035adc23802row0_col6\" class=\"data row0 col6\" >0.86</td>\n",
       "                        <td id=\"T_e70696a4_e812_11e9_afd4_3035adc23802row0_col7\" class=\"data row0 col7\" >0.80</td>\n",
       "            </tr>\n",
       "    </tbody></table>"
      ],
      "text/plain": [
       "<pandas.io.formats.style.Styler at 0x1132ee860>"
      ]
     },
     "execution_count": 8,
     "metadata": {},
     "output_type": "execute_result"
    }
   ],
   "source": [
    "# Create the Dataframe using dictionary\n",
    "district_summery = pd.DataFrame ({\"Totoal Scools\" : [school_count],\n",
    "                               \"Total Students\" : [dist_student_count],\n",
    "                               \"Total Budget\" : [total_budget],\n",
    "                               \"Average Math Score\" : [average_math_score],\n",
    "                               \"Average Reading Score\" : [average_reading_score],\n",
    "                               \"% Passing Math\" : [perc_math_pass],\n",
    "                               \"% Passing Reading\" : [perc_reading_pass],\n",
    "                               \"% Overall Passing rate\" : [overall_pass]})\n",
    "#Formatting\n",
    "district_summery.style.format({\"Total Students\" :'{:,}',\n",
    "                               \"Total Budget\":'{:,}',\n",
    "                               \"Average Math Score\" : '{:.2f}',\n",
    "                               \"Average Reading Score\": '{:.2f}',\n",
    "                               \"% Passing Math\" : '{:.2f}',\n",
    "                               \"% Passing Reading\": '{:.2f}',\n",
    "                               \"% Overall Passing rate\": '{:.2f}' })"
   ]
  },
  {
   "cell_type": "code",
   "execution_count": 4,
   "metadata": {},
   "outputs": [
    {
     "ename": "NameError",
     "evalue": "name 'merged_df' is not defined",
     "output_type": "error",
     "traceback": [
      "\u001b[0;31m---------------------------------------------------------------------------\u001b[0m",
      "\u001b[0;31mNameError\u001b[0m                                 Traceback (most recent call last)",
      "\u001b[0;32m<ipython-input-4-4540103a6c1f>\u001b[0m in \u001b[0;36m<module>\u001b[0;34m\u001b[0m\n\u001b[1;32m      1\u001b[0m \u001b[0;31m# Groups by school---> School Name\u001b[0m\u001b[0;34m\u001b[0m\u001b[0;34m\u001b[0m\u001b[0;34m\u001b[0m\u001b[0m\n\u001b[0;32m----> 2\u001b[0;31m \u001b[0mby_school\u001b[0m \u001b[0;34m=\u001b[0m\u001b[0mmerged_df\u001b[0m\u001b[0;34m.\u001b[0m\u001b[0mset_index\u001b[0m\u001b[0;34m(\u001b[0m\u001b[0;34m'school_name'\u001b[0m\u001b[0;34m)\u001b[0m\u001b[0;34m.\u001b[0m\u001b[0mgroupby\u001b[0m\u001b[0;34m(\u001b[0m\u001b[0;34m[\u001b[0m\u001b[0;34m'school_name'\u001b[0m\u001b[0;34m]\u001b[0m\u001b[0;34m)\u001b[0m\u001b[0;34m\u001b[0m\u001b[0;34m\u001b[0m\u001b[0m\n\u001b[0m\u001b[1;32m      3\u001b[0m \u001b[0;31m#by_school_df---->print to verify\u001b[0m\u001b[0;34m\u001b[0m\u001b[0;34m\u001b[0m\u001b[0;34m\u001b[0m\u001b[0m\n\u001b[1;32m      4\u001b[0m \u001b[0;34m\u001b[0m\u001b[0m\n\u001b[1;32m      5\u001b[0m \u001b[0;31m# School Type\u001b[0m\u001b[0;34m\u001b[0m\u001b[0;34m\u001b[0m\u001b[0;34m\u001b[0m\u001b[0m\n",
      "\u001b[0;31mNameError\u001b[0m: name 'merged_df' is not defined"
     ]
    }
   ],
   "source": [
    "# Groups by school---> School Name\n",
    "by_school =merged_df.set_index('school_name').groupby(['school_name'])\n",
    "#by_school_df---->print to verify\n",
    "\n",
    "# School Type\n",
    "school_types = schools_df.set_index('school_name')['type']\n",
    "\n",
    "#Total number of students per school\n",
    "students_per_school = by_school['Student ID'].count()\n",
    "# students_per_school---->print to verify\n",
    "\n",
    "# Total School Budget\n",
    "school_budget = schools_df.set_index('school_name')['budget']\n",
    "\n",
    "# Calculate per students budget\n",
    "per_student_budget = schools_df.set_index('school_name')['budget']/schools_df.set_index('school_name')['size']\n",
    "#per_student_budget---->print to verify\n",
    "\n",
    "# Calculating Average math and reading scores\n",
    "ave_math_score = by_school['math_score'].mean()\n",
    "#ave_math_score---->print to verify\n",
    "ave_reading_score = by_school['reading_score'].mean()\n",
    "#ave_reading_score---->print to verify\n",
    "\n",
    "#Calculating the passing percent for Math and Reading (% Passing Math and % Passing Reading)\n",
    "pass_math =merged_df[school_data_complete['math_score'] >= 70].groupby('school_name')['Student ID'].count()/students_per_school\n",
    "# pass_math---->print to verify\n",
    "\n",
    "pass_reading =merged_df[school_data_complete['reading_score'] >= 70].groupby('school_name')['Student ID'].count()/students_per_school\n",
    "#pass_reading---->print to verify\n",
    "\n",
    "# Calculating Overall Passing Rate\n",
    "overall_pass_school = (pass_math + pass_reading)/2\n",
    "#overall_pass_school---->print to verify\n",
    "\n",
    "#School Summery\n",
    "school_summery =  pd.DataFrame ({ \n",
    "    \"School Type\" : school_types,\n",
    "    \"Total Students\" : students_per_school,\n",
    "    \"Total School Budget\" :school_budget,\n",
    "    \"Per Student Budget\" : per_student_budget,\n",
    "    \"Average Math Score\" : ave_math_score, \n",
    "    \"Average Reading Score\" :ave_reading_score,\n",
    "    \"% Passing Math\" : pass_math,\n",
    "    \"% Passing Reading\" :pass_reading,\n",
    "    \"% Overall Passing Rate\" : overall_pass_school})\n",
    "\n",
    "school_summery.style.format({\n",
    "                            \"Total Students\": '{:,}',\n",
    "                            \"Total School Budget\":'{:,}',\n",
    "                            \"Per Student Budget\": '{:.0f}',\n",
    "                            \"Average Math Score\": '{:.2%}', \n",
    "                            \"Average Reading Score\": '{:.2%}',\n",
    "                            \"% Passing Math\": '{:.2%}',\n",
    "                            \"% Passing Reading\": '{:.2%}',\n",
    "                            \"% Overall Passing Rate\": '{:.2%}' })"
   ]
  },
  {
   "cell_type": "markdown",
   "metadata": {},
   "source": [
    "## Top Performing Schools (By Passing Rate)"
   ]
  },
  {
   "cell_type": "markdown",
   "metadata": {},
   "source": [
    "* Sort and display the top five schools in overall passing rate"
   ]
  },
  {
   "cell_type": "code",
   "execution_count": null,
   "metadata": {},
   "outputs": [],
   "source": [
    "# Sort Values by passing rate and then print only top 5 schools\n",
    "top_5 = school_summery.sort_values(\"% Overall Passing Rate\", ascending = False)\n",
    "top_5.head().style.format({\"Total Students\": '{:,}',\n",
    "                            \"Total School Budget\":'{:,}',\n",
    "                            \"Per Student Budget\": '{:.0f}',\n",
    "                            \"% Passing Math\": '{:.2%}',\n",
    "                            \"% Passing Reading\": '{:.2%}',\n",
    "                            \"% Overall Passing Rate\": '{:.2%}' })"
   ]
  },
  {
   "cell_type": "markdown",
   "metadata": {},
   "source": [
    "## Bottom Performing Schools (By Passing Rate)"
   ]
  },
  {
   "cell_type": "markdown",
   "metadata": {},
   "source": [
    "* Sort and display the five worst-performing schools"
   ]
  },
  {
   "cell_type": "code",
   "execution_count": null,
   "metadata": {},
   "outputs": [],
   "source": [
    "# Sort Values by passing rate and then print only bottom 5 schools from worst to best\n",
    "bottom_5 = top_5.tail()\n",
    "bottom_5 = school_summery.sort_values(\"% Overall Passing Rate\")\n",
    "bottom_5.head().style.format({\"Total Students\": '{:,}',\n",
    "                            \"Total School Budget\":'{:,}',\n",
    "                            \"Per Student Budget\": '{:.0f}',\n",
    "                            \"% Passing Math\": '{:.2%}',\n",
    "                            \"% Passing Reading\": '{:.2%}',\n",
    "                            \"% Overall Passing Rate\": '{:.2%}' })"
   ]
  },
  {
   "cell_type": "markdown",
   "metadata": {},
   "source": [
    "## Math Scores by Grade"
   ]
  },
  {
   "cell_type": "markdown",
   "metadata": {},
   "source": [
    "* Create a table that lists the average Reading Score for students of each grade level (9th, 10th, 11th, 12th) at each school.\n",
    "\n",
    "  * Create a pandas series for each grade. Hint: use a conditional statement.\n",
    "  \n",
    "  * Group each series by school\n",
    "  \n",
    "  * Combine the series into a dataframe\n",
    "  \n",
    "  * Optional: give the displayed data cleaner formatting"
   ]
  },
  {
   "cell_type": "code",
   "execution_count": null,
   "metadata": {},
   "outputs": [],
   "source": [
    "#Create a table that lists the Math Scores for students of each grade level (9th, 10th, 11th, 12th) at each school.\n",
    "ninth_math = students_df.loc[students_df['grade'] == '9th'].groupby('school_name')['math_score'].mean()\n",
    "tenth_math = students_df.loc[students_df['grade'] == '10th'].groupby('school_name')['math_score'].mean()\n",
    "eleventh_math = students_df.loc[students_df['grade'] == '11th'].groupby('school_name')['math_score'].mean()\n",
    "twelfth_math = students_df.loc[students_df['grade'] =='12th'].groupby('school_name')['math_score'].mean()\n",
    "\n",
    "#Creating Data Fram using Disctionaries\n",
    "math_scores = pd.DataFrame({\"9th\" : ninth_math, \"10th\" : tenth_math, \"11th\" : eleventh_math, \"12th\" : twelfth_math })\n",
    "\n",
    "# Rename the columns\n",
    "math_scores = math_scores[['9th', '10th', '11th', '12th']]\n",
    "\n",
    "# Setting the index\n",
    "math_scores.index.name = \"School\"\n",
    "\n",
    "# Formatting\n",
    "math_scores.style.format({'9th': '{:.1f}','10th': '{:.1f}','11th': '{:.1f}','12th': '{:.1f}'})"
   ]
  },
  {
   "cell_type": "markdown",
   "metadata": {},
   "source": [
    "## Reading Score by Grade "
   ]
  },
  {
   "cell_type": "markdown",
   "metadata": {},
   "source": [
    "* Perform the same operations as above for reading scores"
   ]
  },
  {
   "cell_type": "code",
   "execution_count": null,
   "metadata": {},
   "outputs": [],
   "source": [
    "#Create a table that lists the Math Scores for students of each grade level (9th, 10th, 11th, 12th) at each school.\n",
    "ninth_reading = students_df.loc[students_df['grade'] == \"9th\"].groupby('school_name')[\"reading_score\"].mean()\n",
    "tenth_reading = students_df.loc[students_df['grade'] == \"10th\"].groupby('school_name')[\"reading_score\"].mean()\n",
    "eleventh_reading = students_df.loc[students_df['grade'] == \"11th\"].groupby('school_name')[\"reading_score\"].mean()\n",
    "twelfth_reading = students_df.loc[students_df['grade'] == \"12th\"].groupby('school_name')[\"reading_score\"].mean()\n",
    "\n",
    "#Creating Data Fram using Disctionaries\n",
    "reading_scores = pd.DataFrame({\"9th\" : ninth_reading, \"10th\" : tenth_reading, \"11th\" : eleventh_reading, \"12th\" : twelfth_reading })\n",
    "\n",
    "# Rename the column\n",
    "reading_scores = reading_scores[['9th', '10th', '11th', '12th']]\n",
    "\n",
    "# Setting the index\n",
    "reading_scores.index.name = \"School\"\n",
    "\n",
    "# Formatting\n",
    "reading_scores.style.format({'9th': '{:.1f}','10th': '{:.1f}','11th': '{:.1f}','12th': '{:.1f}'})"
   ]
  },
  {
   "cell_type": "markdown",
   "metadata": {},
   "source": [
    "## Scores by School Spending"
   ]
  },
  {
   "cell_type": "markdown",
   "metadata": {},
   "source": [
    "* Create a table that breaks down school performances based on average Spending Ranges (Per Student). Use 4 reasonable bins to group school spending. Include in the table each of the following:\n",
    "  * Average Math Score\n",
    "  * Average Reading Score\n",
    "  * % Passing Math\n",
    "  * % Passing Reading\n",
    "  * Overall Passing Rate (Average of the above two)"
   ]
  },
  {
   "cell_type": "code",
   "execution_count": null,
   "metadata": {},
   "outputs": [],
   "source": [
    "# Sample bins. Feel free to create your own bins.\n",
    "spending_bins = [0, 585, 615, 645, 675]\n",
    "group_names = [\"<$585\", \"$585-615\", \"$615-645\", \"$645-675\"]"
   ]
  },
  {
   "cell_type": "code",
   "execution_count": null,
   "metadata": {},
   "outputs": [],
   "source": [
    "#group by spending\n",
    "by_spending =merged_df.groupby(\"spending_bins\")\n",
    "\n",
    "# calculations for average of math and reading & passing rates for math and reading\n",
    "avg_math = by_spending['math_score'].mean()\n",
    "avg_reading = by_spending['reading_score'].mean()\n",
    "pass_math =merged_df[school_data_complete['math_score'] >= 70].groupby('spending_bins')['Student ID'].count()/by_spending['Student ID'].count()\n",
    "pass_read =merged_df[school_data_complete['reading_score'] >= 70].groupby('spending_bins')['Student ID'].count()/by_spending['Student ID'].count()\n",
    "overall = (avg_math + avg_reading)/2\n",
    "\n",
    "# Creating Data Frame\n",
    "scores_by_spend = pd.DataFrame({\n",
    "    \"Average Math Score\": avg_math,\n",
    "    \"Average Reading Score\": avg_reading,\n",
    "    '% Passing Math': pass_math,\n",
    "    '% Passing Reading': pass_read,\n",
    "    \"Overall Passing Rate\": overall})\n",
    "\n",
    "#reorder columns\n",
    "scores_by_spend = scores_by_spend[[\n",
    "    \"Average Math Score\",\n",
    "    \"Average Reading Score\",\n",
    "    '% Passing Math',\n",
    "    '% Passing Reading',\n",
    "    \"Overall Passing Rate\"]]\n",
    "\n",
    "scores_by_spend.index.name = \"Per Student Budget\"\n",
    "scores_by_spend = scores_by_spend.reindex(group_names)\n",
    "\n",
    "# Formating\n",
    "scores_by_spend.style.format({'Average Math Score': '{:.1f}', \n",
    "                              'Average Reading Score': '{:.1f}',\n",
    "                              '% Passing Math': '{:.1%}',\n",
    "                              '% Passing Reading':'{:.1%}', \n",
    "                              '% Overall Passing Rate': '{:.1%}'})"
   ]
  },
  {
   "cell_type": "markdown",
   "metadata": {},
   "source": [
    "## Scores by School Size"
   ]
  },
  {
   "cell_type": "markdown",
   "metadata": {},
   "source": [
    "* Perform the same operations as above, based on school size."
   ]
  },
  {
   "cell_type": "code",
   "execution_count": null,
   "metadata": {},
   "outputs": [],
   "source": [
    "# Sample bins. Feel free to create your own bins.\n",
    "size_bins = [0, 1000, 2000, 5000]\n",
    "group_names = [\"Small (<1000)\", \"Medium (1000-2000)\", \"Large (2000-5000)\"]\n",
    "\n",
    "school_data_complete['spending_bins'] = pd.cut(school_data_complete['budget']/school_data_complete['size'], bins, labels = group_names)"
   ]
  },
  {
   "cell_type": "code",
   "execution_count": null,
   "metadata": {
    "scrolled": true
   },
   "outputs": [],
   "source": [
    " # create size bins\n",
    "    \n",
    "bins = [0, 999, 1999, 99999999999]\n",
    "group_name = [\"Small (<1000)\", \"Medium (1000-2000)\" , \"Large (>2000)\"]\n",
    "school_data_complete['size_bins'] = pd.cut(school_data_complete['size'], bins, labels = group_name)\n",
    "\n",
    "#group by spending\n",
    "by_size =merged_df.groupby('size_bins')\n",
    "\n",
    "#calculations       \n",
    "avg_math = by_size[ math_score ].mean()\n",
    "avg_read = by_size['math_score'].mean()\n",
    "pass_math =merged_df[school_data_complete['math_score'] >= 70].groupby('size_bins')['Student ID'].count()/by_size['Student ID'].count()\n",
    "pass_read =merged_df[school_data_complete['reading_score'] >= 70].groupby('size_bins')['Student ID'].count()/by_size['Student ID'].count()\n",
    "overall =merged_df[(school_data_complete['reading_score'] >= 70) & (school_data_complete['math_score'] >= 70)].groupby('size_bins')['Student ID'].count()/by_size['Student ID'].count()\n",
    "# df build\n",
    "scores_by_size = pd.DataFrame({\n",
    "    'Average Math Score': avg_math,\n",
    "    'Average Reading Score': avg_read,\n",
    "    '% Passing Math': pass_math,\n",
    "    '% Passing Reading': pass_read,\n",
    "    'Overall Passing Rate': overall })\n",
    "#reorder columns\n",
    "scores_by_size = scores_by_size[[\n",
    "    \"Average Math Score\",\n",
    "    \"Average Reading Score\",\n",
    "    '% Passing Math',\n",
    "    '% Passing Reading',\n",
    "    \"Overall Passing Rate\" ]]\n",
    "scores_by_size.index.name = \"Total Students\"\n",
    "scores_by_size = scores_by_size.reindex(group_name)\n",
    "#formating\n",
    "scores_by_size.style.format({'Average Math Score': '{:.1f}', 'Average Reading Score': '{:.1f}',\n",
    "'% Passing Math': '{:.1%}',\n",
    "'% Passing Reading':'{:.1%}', 'Overall Passing Rate': '{:.1%}'})"
   ]
  },
  {
   "cell_type": "markdown",
   "metadata": {},
   "source": [
    "## Scores by School Type"
   ]
  },
  {
   "cell_type": "markdown",
   "metadata": {},
   "source": [
    "* Perform the same operations as above, based on school type."
   ]
  },
  {
   "cell_type": "code",
   "execution_count": null,
   "metadata": {},
   "outputs": [],
   "source": [
    "# group by type of school\n",
    "by_type =merged_df.groupby(\"type\")\n",
    "\n",
    "#calculations\n",
    "avg_math = by_type['math_score'].mean()\n",
    "avg_read = by_type['math_score'].mean()\n",
    "pass_math =merged_df[school_data_complete['math_score'] >= 70].groupby('type')['Student ID'].count()/by_type['Student ID'].count()\n",
    "pass_read =merged_df[school_data_complete['reading_score'] >= 70].groupby('type')['Student ID'].count()/by_type['Student ID'].count()\n",
    "overall =merged_df[(school_data_complete['reading_score'] >= 70) & (school_data_complete['math_score'] >= 70)].groupby('type')['Student ID'].count()/by_type['Student ID'].count()\n",
    "\n",
    "# Create the Data Frame\n",
    "scores_by_type = pd.DataFrame({\n",
    "    \"Average Math Score\": avg_math,\n",
    "    \"Average Reading Score\": avg_read,\n",
    "    '% Passing Math': pass_math,\n",
    "    '% Passing Reading': pass_read,\n",
    "    \"Overall Passing Rate\": overall})\n",
    "\n",
    "#reorder columns\n",
    "scores_by_type = scores_by_type[[\n",
    "    'Average Math Score',\n",
    "     'Average Reading Score',\n",
    "    '% Passing Math',\n",
    "    '% Passing Reading',\n",
    "    '% Overall Passing Rate']]\n",
    "\n",
    "# Setting the index\n",
    "scores_by_type.index.name = \"Type of School\"\n",
    "\n",
    "#fFormatting\n",
    "scores_by_type.style.format({'Average Math Score': '{:.1f}', \n",
    "                             'Average Reading Score': '{:.1f}',\n",
    "                             '% Passing Math': '{:.1%}',\n",
    "                             '% Passing Reading':'{:.1%}', \n",
    "                             '% Overall Passing Rate': '{:.1%}'})"
   ]
  },
  {
   "cell_type": "code",
   "execution_count": null,
   "metadata": {},
   "outputs": [],
   "source": [
    "## WRITING PART\n",
    "In top 5 performing schools Math and Reading average scores are very close which are in about 83% and the Passing Math \n",
    "and reading scores are very high and range in 93-94%. Also, the overall passing rate is much higher than in low\n",
    "performing school. Comparing the school types we notice that Average, Passing and overall scores for the district are \n",
    "lower than thecharter school.\n",
    "\n",
    "When I compared the both tables, I notoced that bottom 5 are district schools and top performig schools \n",
    "are charter schools. Within this two tables I also compared the sizes of the schools and I noticed that district schools are \n",
    "about double size. this means the class sizes are much bigger in district schools than in charter schools.\n",
    "In bottom performing school the average math scores are lower than english.\n",
    "Taking overall math scores by grade are also lower than reading.\n",
    "\n",
    "When I compared the grade scores for math and reading, the students performed better in reading than math. in general i can see that \n",
    "most students have difiicult time with math compare to reading."
   ]
  }
 ],
 "metadata": {
  "anaconda-cloud": {},
  "kernel_info": {
   "name": "python3"
  },
  "kernelspec": {
   "display_name": "Python 3",
   "language": "python",
   "name": "python3"
  },
  "language_info": {
   "codemirror_mode": {
    "name": "ipython",
    "version": 3
   },
   "file_extension": ".py",
   "mimetype": "text/x-python",
   "name": "python",
   "nbconvert_exporter": "python",
   "pygments_lexer": "ipython3",
   "version": "3.6.8"
  },
  "latex_envs": {
   "LaTeX_envs_menu_present": true,
   "autoclose": false,
   "autocomplete": true,
   "bibliofile": "biblio.bib",
   "cite_by": "apalike",
   "current_citInitial": 1,
   "eqLabelWithNumbers": true,
   "eqNumInitial": 1,
   "hotkeys": {
    "equation": "Ctrl-E",
    "itemize": "Ctrl-I"
   },
   "labels_anchors": false,
   "latex_user_defs": false,
   "report_style_numbering": false,
   "user_envs_cfg": false
  },
  "nteract": {
   "version": "0.8.4"
  }
 },
 "nbformat": 4,
 "nbformat_minor": 4
}
